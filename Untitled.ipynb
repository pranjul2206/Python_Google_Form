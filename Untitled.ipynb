{
 "cells": [
  {
   "cell_type": "code",
   "execution_count": 3,
   "metadata": {},
   "outputs": [],
   "source": [
    "import requests #for web req\n",
    "from bs4 import BeautifulSoup #for scraping"
   ]
  },
  {
   "cell_type": "code",
   "execution_count": 4,
   "metadata": {
    "collapsed": true
   },
   "outputs": [
    {
     "name": "stdout",
     "output_type": "stream",
     "text": [
      "Chitra Mani + chitni@gmail.com\n",
      "Aadil Lal Mannan + aadillnan@gmail.com\n",
      "Gulab Tushar Puri + gulari@gmail.com\n",
      "Arvind Mehan + arvian@gmail.com\n",
      "Chinmay Ram Doshi + chinmshi@gmail.com\n",
      "Mowgli Bhai Lata + mowglta@gmail.com\n",
      "Hemendra Shenoy + hemennoy@gmail.com\n",
      "Chhaya Lalit Upadhyay + chhayay@gmail.com\n",
      "Indrani Krish + indrish@gmail.com\n",
      "Indrani Naresh Dixit + indraxit@gmail.com\n",
      "Yash Bhai Kara + yashbara@gmail.com\n",
      "Kamlesh Persaud + kamlesaud@gmail.com\n",
      "Akhil Amin + akhilamin@gmail.com\n",
      "Hassan Singh Bawa + hassaawa@gmail.com\n",
      "Raj Preet Kadakia + rajpia@gmail.com\n",
      "Anshula Bains + anshulns@gmail.com\n",
      "John Ramesh Kota + johnrata@gmail.com\n",
      "Aisha Boase + aishase@gmail.com\n",
      "Faisal Ghanshyam Malpani + faisalni@gmail.com\n",
      "Ghalib Mishra + ghalhra@gmail.com\n",
      "Madhavi Nawab,  Sangha + madhavgha@gmail.com\n",
      "David Khurana + davidana@gmail.com\n",
      "Krishna Dass + krishnass@gmail.com\n",
      "Aayushman Naval Kar + aayushkar@gmail.com\n",
      "Nutan Bahadur Kabra + nutabra@gmail.com\n",
      "Devika Salvi + devikavi@gmail.com\n",
      "Nishita Thaker + nishier@gmail.com\n",
      "Prerna Bahadur Raman + preran@gmail.com\n",
      "Nalini Peter Pant + nalinant@gmail.com\n",
      "Aniruddh Rajagopalan + anirudlan@gmail.com\n",
      "Chandni Koshy + chandshy@gmail.com\n",
      "Akshay Ram Lanka + akshaynka@gmail.com\n",
      "Lalit Singh Saxena + lalitna@gmail.com\n",
      "Naval Venkat Ramaswamy + navaamy@gmail.com\n",
      "Lakshmi Mammen + laksen@gmail.com\n",
      "Binoya Ram Choudhry + binoyry@gmail.com\n",
      "Bhanupriya Bobal + bhanupbal@gmail.com\n",
      "Kalyani Lanka + kalyannka@gmail.com\n",
      "Nilima Anil Bera + nilimara@gmail.com\n",
      "Hassan Sandal + hassandal@gmail.com\n",
      "Zeenat Harpreet Sachdeva + zeenaeva@gmail.com\n",
      "Laveena Ram Lata + laveenta@gmail.com\n",
      "Nandini Raman + nandinman@gmail.com\n",
      "Monica Radheshyam Sen + monicaen@gmail.com\n",
      "Pooja Suraj Gade + poojasde@gmail.com\n",
      "Shanti Sahni + shantini@gmail.com\n",
      "Ragini Gobin + raginin@gmail.com\n",
      "Umesh Mall + umesll@gmail.com\n",
      "Sharad Chandra Sahota + sharta@gmail.com\n",
      "Vivek Rao Mander + vivekder@gmail.com\n",
      "Alex Prabhakar + alexpar@gmail.com\n",
      "Dhanush Dev Nori + dhanuori@gmail.com\n",
      "Mukul Dewan + mukulan@gmail.com\n",
      "Iqbal Wahid Chandran + iqbalran@gmail.com\n",
      "Amolika Shankar + amolikar@gmail.com\n",
      "Nayan Saran + nayansan@gmail.com\n",
      "Peter Cheema + petema@gmail.com\n",
      "Chand Prasad Bansal + chandpsal@gmail.com\n",
      "Pooja Prakash + poojash@gmail.com\n",
      "Mayawati Parekh + mayawkh@gmail.com\n",
      "Kim Jayaraman + kimjayman@gmail.com\n",
      "Jamshed Rao Walla + jamshlla@gmail.com\n",
      "Nawab,  Lal Mehta + nawabta@gmail.com\n",
      "Rajesh Qabeel Goswami + rajeshmi@gmail.com\n",
      "Avantika Ghose + avantise@gmail.com\n",
      "Nutan Bhola Grewal + nutanbal@gmail.com\n",
      "Naina Obaid Kalla + nainala@gmail.com\n",
      "Qadim Kulkarni + qadimkrni@gmail.com\n",
      "Preet Chandra George + preetge@gmail.com\n",
      "Sohail Mohit Thaker + sohaier@gmail.com\n",
      "Nishi Subhash Sankaran + nishian@gmail.com\n",
      "Riya Krishnan + riyakan@gmail.com\n",
      "Sapna Ramroop + sapnop@gmail.com\n",
      "Vivek Gour + viveour@gmail.com\n",
      "Anshu Dinesh Jacob + anshucob@gmail.com\n",
      "Mohan Rao Saran + mohanan@gmail.com\n",
      "Swati Charlie Meda + swatieda@gmail.com\n",
      "Lalita Chinmay Pardeshi + lalitashi@gmail.com\n",
      "Veena Raja + veenaja@gmail.com\n",
      "Nagma Shan + nagman@gmail.com\n",
      "Sameedha Hetan Sahota + sameeota@gmail.com\n",
      "Smriti Sid Persad + smritad@gmail.com\n",
      "Vivek Lodi + vivekldi@gmail.com\n",
      "Venkat Dev Aggarwal + venkawal@gmail.com\n",
      "Upasana Dube + upasbe@gmail.com\n",
      "Nishi Krishnan + nishikan@gmail.com\n",
      "Hassan Gandhi + hassdhi@gmail.com\n",
      "Neela Kar + neelakar@gmail.com\n",
      "Sameera Dalal + sameeral@gmail.com\n",
      "Pradeep Lal Behl + pradehl@gmail.com\n",
      "Priyanka Sandal + priyaal@gmail.com\n",
      "Malik Raja + malikja@gmail.com\n",
      "Vivek Misra + vivekmsra@gmail.com\n",
      "Shanti Khatri + shanri@gmail.com\n",
      "Mehul Ehsaan Sodhi + mehuledhi@gmail.com\n",
      "Hemendra Sawhney + hemendey@gmail.com\n",
      "Venkat Pratap Gade + venkde@gmail.com\n",
      "Himani Loyal + himayal@gmail.com\n",
      "Lalita Palla + lalilla@gmail.com\n",
      "Gulzar Chandra Bhalla + gulzala@gmail.com\n"
     ]
    }
   ],
   "source": [
    "''' \n",
    "Scraping 100 random indian names and email from: www.random-name-generator.com \n",
    "d is a dictionary with email as key and password as email \n",
    "'''\n",
    "\n",
    "d=dict()\n",
    "URL = \"https://www.random-name-generator.com/india?country=en_IN&gender=&n=100&s=25909#form\"\n",
    "r = requests.get(URL).text\n",
    "soup = BeautifulSoup(r, 'lxml')\n",
    "for i in soup.findAll('div',class_=\"media-body\"):\n",
    "    name=i.find('p',class_=\"h4 mt-0\").text.strip()\n",
    "    fname=name[:name.rfind(' ')]\n",
    "    id=i.findAll('dl',class_='row')[1]\n",
    "    fid=id.find('dd').text\n",
    "    d[fname]=fid\n",
    "    print(fname,\"+\",fid)"
   ]
  },
  {
   "cell_type": "code",
   "execution_count": 5,
   "metadata": {},
   "outputs": [
    {
     "name": "stdout",
     "output_type": "stream",
     "text": [
      "100\n"
     ]
    }
   ],
   "source": [
    "print(len(d))"
   ]
  },
  {
   "cell_type": "code",
   "execution_count": 6,
   "metadata": {},
   "outputs": [
    {
     "name": "stdout",
     "output_type": "stream",
     "text": [
      "{'entry.1884265043': 'Chitra Mani', 'entry.513669972': 'good!', 'entry.1212348438': 'S', 'emailAddress': 'chitni@gmail.com'}\n",
      "{'entry.1884265043': 'Aadil Lal Mannan', 'entry.513669972': 'very good!', 'entry.1212348438': 'M', 'emailAddress': 'aadillnan@gmail.com'}\n",
      "{'entry.1884265043': 'Gulab Tushar Puri', 'entry.513669972': 'awesome!', 'entry.1212348438': 'M', 'emailAddress': 'gulari@gmail.com'}\n",
      "{'entry.1884265043': 'Arvind Mehan', 'entry.513669972': 'good!', 'entry.1212348438': 'M', 'emailAddress': 'arvian@gmail.com'}\n",
      "{'entry.1884265043': 'Chinmay Ram Doshi', 'entry.513669972': 'good!', 'entry.1212348438': 'L', 'emailAddress': 'chinmshi@gmail.com'}\n",
      "{'entry.1884265043': 'Mowgli Bhai Lata', 'entry.513669972': 'very good!', 'entry.1212348438': 'L', 'emailAddress': 'mowglta@gmail.com'}\n",
      "{'entry.1884265043': 'Hemendra Shenoy', 'entry.513669972': 'awesome!', 'entry.1212348438': 'XL', 'emailAddress': 'hemennoy@gmail.com'}\n",
      "{'entry.1884265043': 'Chhaya Lalit Upadhyay', 'entry.513669972': 'good!', 'entry.1212348438': 'XS', 'emailAddress': 'chhayay@gmail.com'}\n",
      "{'entry.1884265043': 'Indrani Krish', 'entry.513669972': 'good!', 'entry.1212348438': 'S', 'emailAddress': 'indrish@gmail.com'}\n",
      "{'entry.1884265043': 'Indrani Naresh Dixit', 'entry.513669972': 'very good!', 'entry.1212348438': 'M', 'emailAddress': 'indraxit@gmail.com'}\n",
      "10\n"
     ]
    }
   ],
   "source": [
    "''' \n",
    "Here we are preparing simple FormResponse array as form_list\n",
    "values are all the form entity which can be identified by going to\n",
    ">>Inspect Element >> network tab >> click Preserve log\n",
    ">> fill the form >> click submit\n",
    ">>click formResponse by searching left column with heading \"name\"\n",
    ">> inside form response go to form data>> copy all the entities your form is posting\n",
    "[screenshot uploaded by the name \"screenshot\"]\n",
    "'''\n",
    "\n",
    "''' \n",
    "to make it look random, array which have all the possible response in different ratio are \n",
    "created and values are selected by formula arr[c%length], which will return index from 0,n-1 \n",
    "in circular way [if you want to make it more random by using random.randint(0,len(arr))] \n",
    "for testing we are taking only 10 iterations.\n",
    "'''\n",
    "\n",
    "form_list=list()\n",
    "size=[\"XS\",\"S\",\"M\",\"M\",\"M\",\"L\",\"L\",\"XL\"]\n",
    "thoughts=[\"good!\",\"good!\",\"very good!\",\"awesome!\"]\n",
    "c=0\n",
    "for i in d:\n",
    "    c+=1\n",
    "    values = {\n",
    "    \"entry.1884265043\": i,\n",
    "    \"entry.513669972\": thoughts[c%4],\n",
    "    \"entry.1212348438\": size[c%8],\n",
    "    \"emailAddress\": d[i],     \n",
    "    }\n",
    "    if c==11:\n",
    "        break\n",
    "\n",
    "    form_list.append(values)\n",
    "    print(values)\n",
    "print(len(form_list))"
   ]
  },
  {
   "cell_type": "code",
   "execution_count": 7,
   "metadata": {},
   "outputs": [],
   "source": [
    "'''\n",
    "post_form at each iteration request.pot() each form stored in form_list\n",
    "'''\n",
    "import time\n",
    "def post_from(url, data):\n",
    "    for d in data:\n",
    "        try:\n",
    "            requests.post(url, data=d)\n",
    "            print(\"Form Submitted.\")\n",
    "        except:\n",
    "            print(\"Error Occured!\")\n",
    "    print(\"done!\")"
   ]
  },
  {
   "cell_type": "code",
   "execution_count": 8,
   "metadata": {},
   "outputs": [
    {
     "name": "stdout",
     "output_type": "stream",
     "text": [
      "Form Submitted.\n",
      "Form Submitted.\n",
      "Form Submitted.\n",
      "Form Submitted.\n",
      "Form Submitted.\n",
      "Form Submitted.\n",
      "Form Submitted.\n",
      "Form Submitted.\n",
      "Form Submitted.\n",
      "Form Submitted.\n",
      "done!\n"
     ]
    }
   ],
   "source": [
    "'''\n",
    "it is important to note that url \"viewform\" at the end is changed to \"formResponse\"\n",
    "url \"https://docs.google.com/forms/d/1MIOTQRP2RFU8Z_0bERp1OfifDr9vBuU8j3501i1043U//viewform\"\n",
    "is changed to\n",
    "url \"https://docs.google.com/forms/d/1MIOTQRP2RFU8Z_0bERp1OfifDr9vBuU8j3501i1043U/formResponse\n",
    "'''\n",
    "post_from(\"https://docs.google.com/forms/d/1MIOTQRP2RFU8Z_0bERp1OfifDr9vBuU8j3501i1043U/formResponse\",form_list)"
   ]
  },
  {
   "cell_type": "code",
   "execution_count": null,
   "metadata": {},
   "outputs": [],
   "source": []
  },
  {
   "cell_type": "code",
   "execution_count": null,
   "metadata": {},
   "outputs": [],
   "source": []
  }
 ],
 "metadata": {
  "kernelspec": {
   "display_name": "Python 3",
   "language": "python",
   "name": "python3"
  },
  "language_info": {
   "codemirror_mode": {
    "name": "ipython",
    "version": 3
   },
   "file_extension": ".py",
   "mimetype": "text/x-python",
   "name": "python",
   "nbconvert_exporter": "python",
   "pygments_lexer": "ipython3",
   "version": "3.7.3"
  }
 },
 "nbformat": 4,
 "nbformat_minor": 2
}
